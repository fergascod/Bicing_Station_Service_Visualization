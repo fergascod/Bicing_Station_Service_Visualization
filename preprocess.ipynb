{
 "cells": [
  {
   "cell_type": "code",
   "execution_count": 19,
   "metadata": {},
   "outputs": [
    {
     "data": {
      "text/plain": [
       "DataTransformerRegistry.enable('default')"
      ]
     },
     "execution_count": 19,
     "metadata": {},
     "output_type": "execute_result"
    }
   ],
   "source": [
    "import pandas as pd\n",
    "import datetime as dt\n",
    "import altair as alt\n",
    "import re\n",
    "import datetime\n",
    "alt.data_transformers.disable_max_rows()\n"
   ]
  },
  {
   "cell_type": "code",
   "execution_count": 20,
   "metadata": {},
   "outputs": [],
   "source": [
    "bicing_stations=pd.read_csv(\"bicing_station_districts.csv\")\n",
    "\n",
    "september=pd.read_csv(\"../2020_09_Setembre_BicingNou_ESTACIONS.csv\")"
   ]
  },
  {
   "cell_type": "markdown",
   "metadata": {},
   "source": [
    "# Loading and cleaning data from Bicing Station's activities"
   ]
  },
  {
   "cell_type": "markdown",
   "metadata": {},
   "source": [
    "First, we want to get the day of September in which each row was recorded, using the data in column \"last_updated\" and with the function fromtimestamp in the datetime library."
   ]
  },
  {
   "cell_type": "code",
   "execution_count": 3,
   "metadata": {
    "scrolled": false
   },
   "outputs": [],
   "source": [
    "september[\"day\"]=september[\"last_updated\"].transform(lambda x : int(dt.datetime.fromtimestamp(x).strftime(\"%d\")))"
   ]
  },
  {
   "cell_type": "markdown",
   "metadata": {},
   "source": [
    "Next we will compute some meaningful variables that we will use later on:"
   ]
  },
  {
   "cell_type": "code",
   "execution_count": 4,
   "metadata": {
    "scrolled": false
   },
   "outputs": [],
   "source": [
    "september[\"Occupation\"] = september[\"num_bikes_available\"]/(september[\"num_docks_available\"]+september[\"num_bikes_available\"])"
   ]
  },
  {
   "cell_type": "code",
   "execution_count": 5,
   "metadata": {
    "scrolled": true
   },
   "outputs": [
    {
     "data": {
      "text/html": [
       "<div>\n",
       "<style scoped>\n",
       "    .dataframe tbody tr th:only-of-type {\n",
       "        vertical-align: middle;\n",
       "    }\n",
       "\n",
       "    .dataframe tbody tr th {\n",
       "        vertical-align: top;\n",
       "    }\n",
       "\n",
       "    .dataframe thead th {\n",
       "        text-align: right;\n",
       "    }\n",
       "</style>\n",
       "<table border=\"1\" class=\"dataframe\">\n",
       "  <thead>\n",
       "    <tr style=\"text-align: right;\">\n",
       "      <th></th>\n",
       "      <th>station_id</th>\n",
       "      <th>num_bikes_available</th>\n",
       "      <th>num_bikes_available_types.mechanical</th>\n",
       "      <th>num_bikes_available_types.ebike</th>\n",
       "      <th>num_docks_available</th>\n",
       "      <th>is_installed</th>\n",
       "      <th>is_renting</th>\n",
       "      <th>is_returning</th>\n",
       "      <th>last_reported</th>\n",
       "      <th>is_charging_station</th>\n",
       "      <th>status</th>\n",
       "      <th>last_updated</th>\n",
       "      <th>ttl</th>\n",
       "      <th>day</th>\n",
       "      <th>Occupation</th>\n",
       "    </tr>\n",
       "  </thead>\n",
       "  <tbody>\n",
       "    <tr>\n",
       "      <th>0</th>\n",
       "      <td>1</td>\n",
       "      <td>19</td>\n",
       "      <td>19</td>\n",
       "      <td>0</td>\n",
       "      <td>23</td>\n",
       "      <td>1</td>\n",
       "      <td>1</td>\n",
       "      <td>1</td>\n",
       "      <td>1.598911e+09</td>\n",
       "      <td>True</td>\n",
       "      <td>IN_SERVICE</td>\n",
       "      <td>1598911239</td>\n",
       "      <td>28</td>\n",
       "      <td>1</td>\n",
       "      <td>0.452381</td>\n",
       "    </tr>\n",
       "    <tr>\n",
       "      <th>1</th>\n",
       "      <td>2</td>\n",
       "      <td>1</td>\n",
       "      <td>1</td>\n",
       "      <td>0</td>\n",
       "      <td>23</td>\n",
       "      <td>1</td>\n",
       "      <td>1</td>\n",
       "      <td>1</td>\n",
       "      <td>1.598911e+09</td>\n",
       "      <td>True</td>\n",
       "      <td>IN_SERVICE</td>\n",
       "      <td>1598911239</td>\n",
       "      <td>28</td>\n",
       "      <td>1</td>\n",
       "      <td>0.041667</td>\n",
       "    </tr>\n",
       "    <tr>\n",
       "      <th>2</th>\n",
       "      <td>3</td>\n",
       "      <td>4</td>\n",
       "      <td>4</td>\n",
       "      <td>0</td>\n",
       "      <td>21</td>\n",
       "      <td>1</td>\n",
       "      <td>1</td>\n",
       "      <td>1</td>\n",
       "      <td>1.598911e+09</td>\n",
       "      <td>True</td>\n",
       "      <td>IN_SERVICE</td>\n",
       "      <td>1598911239</td>\n",
       "      <td>28</td>\n",
       "      <td>1</td>\n",
       "      <td>0.160000</td>\n",
       "    </tr>\n",
       "    <tr>\n",
       "      <th>3</th>\n",
       "      <td>4</td>\n",
       "      <td>3</td>\n",
       "      <td>3</td>\n",
       "      <td>0</td>\n",
       "      <td>14</td>\n",
       "      <td>1</td>\n",
       "      <td>1</td>\n",
       "      <td>1</td>\n",
       "      <td>1.598911e+09</td>\n",
       "      <td>True</td>\n",
       "      <td>IN_SERVICE</td>\n",
       "      <td>1598911239</td>\n",
       "      <td>28</td>\n",
       "      <td>1</td>\n",
       "      <td>0.176471</td>\n",
       "    </tr>\n",
       "    <tr>\n",
       "      <th>4</th>\n",
       "      <td>5</td>\n",
       "      <td>3</td>\n",
       "      <td>3</td>\n",
       "      <td>0</td>\n",
       "      <td>35</td>\n",
       "      <td>1</td>\n",
       "      <td>1</td>\n",
       "      <td>1</td>\n",
       "      <td>1.598911e+09</td>\n",
       "      <td>True</td>\n",
       "      <td>IN_SERVICE</td>\n",
       "      <td>1598911239</td>\n",
       "      <td>28</td>\n",
       "      <td>1</td>\n",
       "      <td>0.078947</td>\n",
       "    </tr>\n",
       "  </tbody>\n",
       "</table>\n",
       "</div>"
      ],
      "text/plain": [
       "   station_id  num_bikes_available  num_bikes_available_types.mechanical  \\\n",
       "0           1                   19                                    19   \n",
       "1           2                    1                                     1   \n",
       "2           3                    4                                     4   \n",
       "3           4                    3                                     3   \n",
       "4           5                    3                                     3   \n",
       "\n",
       "   num_bikes_available_types.ebike  num_docks_available  is_installed  \\\n",
       "0                                0                   23             1   \n",
       "1                                0                   23             1   \n",
       "2                                0                   21             1   \n",
       "3                                0                   14             1   \n",
       "4                                0                   35             1   \n",
       "\n",
       "   is_renting  is_returning  last_reported  is_charging_station      status  \\\n",
       "0           1             1   1.598911e+09                 True  IN_SERVICE   \n",
       "1           1             1   1.598911e+09                 True  IN_SERVICE   \n",
       "2           1             1   1.598911e+09                 True  IN_SERVICE   \n",
       "3           1             1   1.598911e+09                 True  IN_SERVICE   \n",
       "4           1             1   1.598911e+09                 True  IN_SERVICE   \n",
       "\n",
       "   last_updated  ttl  day  Occupation  \n",
       "0    1598911239   28    1    0.452381  \n",
       "1    1598911239   28    1    0.041667  \n",
       "2    1598911239   28    1    0.160000  \n",
       "3    1598911239   28    1    0.176471  \n",
       "4    1598911239   28    1    0.078947  "
      ]
     },
     "execution_count": 5,
     "metadata": {},
     "output_type": "execute_result"
    }
   ],
   "source": [
    "september.head()"
   ]
  },
  {
   "cell_type": "markdown",
   "metadata": {},
   "source": [
    "As we will be plotting the daily data about the activity of each station, we will group all rows by the day and the station and average the different metrics we will be plotting:"
   ]
  },
  {
   "cell_type": "code",
   "execution_count": 6,
   "metadata": {},
   "outputs": [],
   "source": [
    "aggregate=september[september[\"status\"]==\"IN_SERVICE\"].groupby([\"day\", \"station_id\"]).mean()\n",
    "aggregate=aggregate.reset_index()"
   ]
  },
  {
   "cell_type": "code",
   "execution_count": 7,
   "metadata": {},
   "outputs": [],
   "source": [
    "aggregate.columns=['Day', 'Station','avg_Bikes_Avail', 'avg_Mechanical_Bikes',\n",
    "       'avg_Electric_Bikes', 'avg_Docks_Available',\n",
    "       'is_installed', 'is_renting', 'is_returning', 'last_reported',\n",
    "       'is_charging_station', 'last_updated', 'ttl', 'avg_Occupation']\n",
    "aggregate=aggregate[['Day', 'Station','avg_Bikes_Avail', 'avg_Mechanical_Bikes',\n",
    "       'avg_Electric_Bikes', 'avg_Docks_Available', 'avg_Occupation']]"
   ]
  },
  {
   "cell_type": "markdown",
   "metadata": {},
   "source": [
    "We will create a variable \"Date\", containing the date in a format that Altair will understand as so:"
   ]
  },
  {
   "cell_type": "code",
   "execution_count": 8,
   "metadata": {},
   "outputs": [],
   "source": [
    "aggregate[\"Date\"]=aggregate['Day'].apply(lambda x: datetime.datetime(2020, 9, x))"
   ]
  },
  {
   "cell_type": "markdown",
   "metadata": {},
   "source": [
    "We will also create a \"Day_of_week\" variable, a string containing the name of the days in plain text:"
   ]
  },
  {
   "cell_type": "code",
   "execution_count": 9,
   "metadata": {},
   "outputs": [],
   "source": [
    "aggregate[\"Day_of_week\"]=aggregate['Day'].apply(lambda x: datetime.datetime.strftime(datetime.datetime(2020, 9, x), '%A'))"
   ]
  },
  {
   "cell_type": "code",
   "execution_count": 10,
   "metadata": {},
   "outputs": [
    {
     "data": {
      "text/html": [
       "<div>\n",
       "<style scoped>\n",
       "    .dataframe tbody tr th:only-of-type {\n",
       "        vertical-align: middle;\n",
       "    }\n",
       "\n",
       "    .dataframe tbody tr th {\n",
       "        vertical-align: top;\n",
       "    }\n",
       "\n",
       "    .dataframe thead th {\n",
       "        text-align: right;\n",
       "    }\n",
       "</style>\n",
       "<table border=\"1\" class=\"dataframe\">\n",
       "  <thead>\n",
       "    <tr style=\"text-align: right;\">\n",
       "      <th></th>\n",
       "      <th>Day</th>\n",
       "      <th>Station</th>\n",
       "      <th>avg_Bikes_Avail</th>\n",
       "      <th>avg_Mechanical_Bikes</th>\n",
       "      <th>avg_Electric_Bikes</th>\n",
       "      <th>avg_Docks_Available</th>\n",
       "      <th>avg_Occupation</th>\n",
       "      <th>Date</th>\n",
       "      <th>Day_of_week</th>\n",
       "    </tr>\n",
       "  </thead>\n",
       "  <tbody>\n",
       "    <tr>\n",
       "      <th>0</th>\n",
       "      <td>1</td>\n",
       "      <td>1</td>\n",
       "      <td>13.722222</td>\n",
       "      <td>13.552083</td>\n",
       "      <td>0.170139</td>\n",
       "      <td>27.763889</td>\n",
       "      <td>0.328943</td>\n",
       "      <td>2020-09-01</td>\n",
       "      <td>Tuesday</td>\n",
       "    </tr>\n",
       "    <tr>\n",
       "      <th>1</th>\n",
       "      <td>1</td>\n",
       "      <td>2</td>\n",
       "      <td>3.093750</td>\n",
       "      <td>2.982639</td>\n",
       "      <td>0.111111</td>\n",
       "      <td>20.569444</td>\n",
       "      <td>0.131970</td>\n",
       "      <td>2020-09-01</td>\n",
       "      <td>Tuesday</td>\n",
       "    </tr>\n",
       "    <tr>\n",
       "      <th>2</th>\n",
       "      <td>1</td>\n",
       "      <td>3</td>\n",
       "      <td>6.593750</td>\n",
       "      <td>6.461806</td>\n",
       "      <td>0.131944</td>\n",
       "      <td>16.878472</td>\n",
       "      <td>0.282516</td>\n",
       "      <td>2020-09-01</td>\n",
       "      <td>Tuesday</td>\n",
       "    </tr>\n",
       "    <tr>\n",
       "      <th>3</th>\n",
       "      <td>1</td>\n",
       "      <td>4</td>\n",
       "      <td>5.909722</td>\n",
       "      <td>5.645833</td>\n",
       "      <td>0.263889</td>\n",
       "      <td>10.642361</td>\n",
       "      <td>0.360665</td>\n",
       "      <td>2020-09-01</td>\n",
       "      <td>Tuesday</td>\n",
       "    </tr>\n",
       "    <tr>\n",
       "      <th>4</th>\n",
       "      <td>1</td>\n",
       "      <td>5</td>\n",
       "      <td>6.277778</td>\n",
       "      <td>6.125000</td>\n",
       "      <td>0.152778</td>\n",
       "      <td>32.336806</td>\n",
       "      <td>0.161981</td>\n",
       "      <td>2020-09-01</td>\n",
       "      <td>Tuesday</td>\n",
       "    </tr>\n",
       "    <tr>\n",
       "      <th>...</th>\n",
       "      <td>...</td>\n",
       "      <td>...</td>\n",
       "      <td>...</td>\n",
       "      <td>...</td>\n",
       "      <td>...</td>\n",
       "      <td>...</td>\n",
       "      <td>...</td>\n",
       "      <td>...</td>\n",
       "      <td>...</td>\n",
       "    </tr>\n",
       "    <tr>\n",
       "      <th>14746</th>\n",
       "      <td>30</td>\n",
       "      <td>515</td>\n",
       "      <td>8.371528</td>\n",
       "      <td>8.336806</td>\n",
       "      <td>0.034722</td>\n",
       "      <td>15.628472</td>\n",
       "      <td>0.348814</td>\n",
       "      <td>2020-09-30</td>\n",
       "      <td>Wednesday</td>\n",
       "    </tr>\n",
       "    <tr>\n",
       "      <th>14747</th>\n",
       "      <td>30</td>\n",
       "      <td>516</td>\n",
       "      <td>14.072917</td>\n",
       "      <td>13.513889</td>\n",
       "      <td>0.559028</td>\n",
       "      <td>6.927083</td>\n",
       "      <td>0.670139</td>\n",
       "      <td>2020-09-30</td>\n",
       "      <td>Wednesday</td>\n",
       "    </tr>\n",
       "    <tr>\n",
       "      <th>14748</th>\n",
       "      <td>30</td>\n",
       "      <td>517</td>\n",
       "      <td>4.715278</td>\n",
       "      <td>4.010417</td>\n",
       "      <td>0.704861</td>\n",
       "      <td>18.284722</td>\n",
       "      <td>0.205012</td>\n",
       "      <td>2020-09-30</td>\n",
       "      <td>Wednesday</td>\n",
       "    </tr>\n",
       "    <tr>\n",
       "      <th>14749</th>\n",
       "      <td>30</td>\n",
       "      <td>518</td>\n",
       "      <td>0.472222</td>\n",
       "      <td>0.149306</td>\n",
       "      <td>0.322917</td>\n",
       "      <td>25.527778</td>\n",
       "      <td>0.018162</td>\n",
       "      <td>2020-09-30</td>\n",
       "      <td>Wednesday</td>\n",
       "    </tr>\n",
       "    <tr>\n",
       "      <th>14750</th>\n",
       "      <td>30</td>\n",
       "      <td>519</td>\n",
       "      <td>6.913194</td>\n",
       "      <td>4.364583</td>\n",
       "      <td>2.548611</td>\n",
       "      <td>17.086806</td>\n",
       "      <td>0.288050</td>\n",
       "      <td>2020-09-30</td>\n",
       "      <td>Wednesday</td>\n",
       "    </tr>\n",
       "  </tbody>\n",
       "</table>\n",
       "<p>14751 rows × 9 columns</p>\n",
       "</div>"
      ],
      "text/plain": [
       "       Day  Station  avg_Bikes_Avail  avg_Mechanical_Bikes  \\\n",
       "0        1        1        13.722222             13.552083   \n",
       "1        1        2         3.093750              2.982639   \n",
       "2        1        3         6.593750              6.461806   \n",
       "3        1        4         5.909722              5.645833   \n",
       "4        1        5         6.277778              6.125000   \n",
       "...    ...      ...              ...                   ...   \n",
       "14746   30      515         8.371528              8.336806   \n",
       "14747   30      516        14.072917             13.513889   \n",
       "14748   30      517         4.715278              4.010417   \n",
       "14749   30      518         0.472222              0.149306   \n",
       "14750   30      519         6.913194              4.364583   \n",
       "\n",
       "       avg_Electric_Bikes  avg_Docks_Available  avg_Occupation       Date  \\\n",
       "0                0.170139            27.763889        0.328943 2020-09-01   \n",
       "1                0.111111            20.569444        0.131970 2020-09-01   \n",
       "2                0.131944            16.878472        0.282516 2020-09-01   \n",
       "3                0.263889            10.642361        0.360665 2020-09-01   \n",
       "4                0.152778            32.336806        0.161981 2020-09-01   \n",
       "...                   ...                  ...             ...        ...   \n",
       "14746            0.034722            15.628472        0.348814 2020-09-30   \n",
       "14747            0.559028             6.927083        0.670139 2020-09-30   \n",
       "14748            0.704861            18.284722        0.205012 2020-09-30   \n",
       "14749            0.322917            25.527778        0.018162 2020-09-30   \n",
       "14750            2.548611            17.086806        0.288050 2020-09-30   \n",
       "\n",
       "      Day_of_week  \n",
       "0         Tuesday  \n",
       "1         Tuesday  \n",
       "2         Tuesday  \n",
       "3         Tuesday  \n",
       "4         Tuesday  \n",
       "...           ...  \n",
       "14746   Wednesday  \n",
       "14747   Wednesday  \n",
       "14748   Wednesday  \n",
       "14749   Wednesday  \n",
       "14750   Wednesday  \n",
       "\n",
       "[14751 rows x 9 columns]"
      ]
     },
     "execution_count": 10,
     "metadata": {},
     "output_type": "execute_result"
    }
   ],
   "source": [
    "aggregate"
   ]
  },
  {
   "cell_type": "markdown",
   "metadata": {},
   "source": [
    "# Loading data about the Bicing Stations"
   ]
  },
  {
   "cell_type": "markdown",
   "metadata": {},
   "source": [
    "Now, we will take a look at the dataframe with the information about the location of the stations "
   ]
  },
  {
   "cell_type": "code",
   "execution_count": 11,
   "metadata": {
    "scrolled": true
   },
   "outputs": [
    {
     "data": {
      "text/html": [
       "<div>\n",
       "<style scoped>\n",
       "    .dataframe tbody tr th:only-of-type {\n",
       "        vertical-align: middle;\n",
       "    }\n",
       "\n",
       "    .dataframe tbody tr th {\n",
       "        vertical-align: top;\n",
       "    }\n",
       "\n",
       "    .dataframe thead th {\n",
       "        text-align: right;\n",
       "    }\n",
       "</style>\n",
       "<table border=\"1\" class=\"dataframe\">\n",
       "  <thead>\n",
       "    <tr style=\"text-align: right;\">\n",
       "      <th></th>\n",
       "      <th>station_id</th>\n",
       "      <th>name</th>\n",
       "      <th>physical_configuration</th>\n",
       "      <th>lat</th>\n",
       "      <th>lon</th>\n",
       "      <th>altitude</th>\n",
       "      <th>address</th>\n",
       "      <th>post_code</th>\n",
       "      <th>capacity</th>\n",
       "      <th>Latlon</th>\n",
       "      <th>Barri</th>\n",
       "      <th>Districte</th>\n",
       "      <th>Municipi</th>\n",
       "    </tr>\n",
       "  </thead>\n",
       "  <tbody>\n",
       "    <tr>\n",
       "      <th>0</th>\n",
       "      <td>36</td>\n",
       "      <td>AV. DE LA CATEDRAL, 6</td>\n",
       "      <td>ELECTRICBIKESTATION</td>\n",
       "      <td>41.385062</td>\n",
       "      <td>2.176683</td>\n",
       "      <td>8</td>\n",
       "      <td>AV. DE LA CATEDRAL, 6</td>\n",
       "      <td>8002</td>\n",
       "      <td>21</td>\n",
       "      <td>41.38506160000001,2.1766834</td>\n",
       "      <td>el Gòtic</td>\n",
       "      <td>Ciutat Vella</td>\n",
       "      <td>Barcelona</td>\n",
       "    </tr>\n",
       "    <tr>\n",
       "      <th>1</th>\n",
       "      <td>53</td>\n",
       "      <td>PL. CARLES PI I SUNYER</td>\n",
       "      <td>ELECTRICBIKESTATION</td>\n",
       "      <td>41.385086</td>\n",
       "      <td>2.174016</td>\n",
       "      <td>10</td>\n",
       "      <td>PL. CARLES PI I SUNYER</td>\n",
       "      <td>8002</td>\n",
       "      <td>21</td>\n",
       "      <td>41.385086,2.174016</td>\n",
       "      <td>el Gòtic</td>\n",
       "      <td>Ciutat Vella</td>\n",
       "      <td>Barcelona</td>\n",
       "    </tr>\n",
       "    <tr>\n",
       "      <th>2</th>\n",
       "      <td>55</td>\n",
       "      <td>LA RAMBLA, 80</td>\n",
       "      <td>ELECTRICBIKESTATION</td>\n",
       "      <td>41.381428</td>\n",
       "      <td>2.173286</td>\n",
       "      <td>8</td>\n",
       "      <td>LA RAMBLA, 80</td>\n",
       "      <td>8002</td>\n",
       "      <td>19</td>\n",
       "      <td>41.3814279,2.1732861</td>\n",
       "      <td>el Gòtic</td>\n",
       "      <td>Ciutat Vella</td>\n",
       "      <td>Barcelona</td>\n",
       "    </tr>\n",
       "  </tbody>\n",
       "</table>\n",
       "</div>"
      ],
      "text/plain": [
       "   station_id                    name physical_configuration        lat  \\\n",
       "0          36   AV. DE LA CATEDRAL, 6    ELECTRICBIKESTATION  41.385062   \n",
       "1          53  PL. CARLES PI I SUNYER    ELECTRICBIKESTATION  41.385086   \n",
       "2          55           LA RAMBLA, 80    ELECTRICBIKESTATION  41.381428   \n",
       "\n",
       "        lon  altitude                 address  post_code  capacity  \\\n",
       "0  2.176683         8   AV. DE LA CATEDRAL, 6       8002        21   \n",
       "1  2.174016        10  PL. CARLES PI I SUNYER       8002        21   \n",
       "2  2.173286         8           LA RAMBLA, 80       8002        19   \n",
       "\n",
       "                        Latlon     Barri     Districte   Municipi  \n",
       "0  41.38506160000001,2.1766834  el Gòtic  Ciutat Vella  Barcelona  \n",
       "1           41.385086,2.174016  el Gòtic  Ciutat Vella  Barcelona  \n",
       "2         41.3814279,2.1732861  el Gòtic  Ciutat Vella  Barcelona  "
      ]
     },
     "execution_count": 11,
     "metadata": {},
     "output_type": "execute_result"
    }
   ],
   "source": [
    "bicing_stations.head(3)"
   ]
  },
  {
   "cell_type": "markdown",
   "metadata": {},
   "source": [
    "Let us check if we don't have data from some of the stations we want to analyse:"
   ]
  },
  {
   "cell_type": "code",
   "execution_count": 12,
   "metadata": {},
   "outputs": [
    {
     "name": "stdout",
     "output_type": "stream",
     "text": [
      "No info of stations: [47, 231, 330, 399, 430, 449, 456, 500, 513, 529]\n"
     ]
    }
   ],
   "source": [
    "no_info = []\n",
    "for station in set(aggregate[\"Station\"]):\n",
    "    if int(station) not in list(bicing_stations[\"station_id\"]):\n",
    "        no_info.append(int(station))\n",
    "print(\"No info of stations:\", no_info)"
   ]
  },
  {
   "cell_type": "markdown",
   "metadata": {},
   "source": [
    "We will discard the rows from our data set that correspond to one of these Bicing Stations, as we don't have the information corresponding to their location. "
   ]
  },
  {
   "cell_type": "code",
   "execution_count": 13,
   "metadata": {
    "scrolled": false
   },
   "outputs": [],
   "source": [
    "aggregate=aggregate[~aggregate.Station.isin(no_info)]\n"
   ]
  },
  {
   "cell_type": "markdown",
   "metadata": {},
   "source": [
    "We will also discard rows from the Bicing Station data that don't correspond to stations in Barcelona (i.e. L'Hospitalet de Llobregat, Sant Adrià del Besós...)"
   ]
  },
  {
   "cell_type": "code",
   "execution_count": 14,
   "metadata": {
    "scrolled": false
   },
   "outputs": [
    {
     "data": {
      "text/html": [
       "<div>\n",
       "<style scoped>\n",
       "    .dataframe tbody tr th:only-of-type {\n",
       "        vertical-align: middle;\n",
       "    }\n",
       "\n",
       "    .dataframe tbody tr th {\n",
       "        vertical-align: top;\n",
       "    }\n",
       "\n",
       "    .dataframe thead th {\n",
       "        text-align: right;\n",
       "    }\n",
       "</style>\n",
       "<table border=\"1\" class=\"dataframe\">\n",
       "  <thead>\n",
       "    <tr style=\"text-align: right;\">\n",
       "      <th></th>\n",
       "      <th>Station</th>\n",
       "      <th>Name</th>\n",
       "      <th>Lat</th>\n",
       "      <th>Lon</th>\n",
       "      <th>Altitude</th>\n",
       "      <th>Barri</th>\n",
       "      <th>Districte</th>\n",
       "    </tr>\n",
       "  </thead>\n",
       "  <tbody>\n",
       "    <tr>\n",
       "      <th>0</th>\n",
       "      <td>36</td>\n",
       "      <td>AV. DE LA CATEDRAL, 6</td>\n",
       "      <td>41.385062</td>\n",
       "      <td>2.176683</td>\n",
       "      <td>8</td>\n",
       "      <td>el Gòtic</td>\n",
       "      <td>Ciutat Vella</td>\n",
       "    </tr>\n",
       "    <tr>\n",
       "      <th>1</th>\n",
       "      <td>53</td>\n",
       "      <td>PL. CARLES PI I SUNYER</td>\n",
       "      <td>41.385086</td>\n",
       "      <td>2.174016</td>\n",
       "      <td>10</td>\n",
       "      <td>el Gòtic</td>\n",
       "      <td>Ciutat Vella</td>\n",
       "    </tr>\n",
       "    <tr>\n",
       "      <th>2</th>\n",
       "      <td>55</td>\n",
       "      <td>LA RAMBLA, 80</td>\n",
       "      <td>41.381428</td>\n",
       "      <td>2.173286</td>\n",
       "      <td>8</td>\n",
       "      <td>el Gòtic</td>\n",
       "      <td>Ciutat Vella</td>\n",
       "    </tr>\n",
       "    <tr>\n",
       "      <th>3</th>\n",
       "      <td>57</td>\n",
       "      <td>RAMBLA, 2</td>\n",
       "      <td>41.376876</td>\n",
       "      <td>2.177225</td>\n",
       "      <td>4</td>\n",
       "      <td>el Gòtic</td>\n",
       "      <td>Ciutat Vella</td>\n",
       "    </tr>\n",
       "    <tr>\n",
       "      <th>4</th>\n",
       "      <td>126</td>\n",
       "      <td>PG. DE COLOM /VIA LAIETANA</td>\n",
       "      <td>41.380628</td>\n",
       "      <td>2.182192</td>\n",
       "      <td>4</td>\n",
       "      <td>el Gòtic</td>\n",
       "      <td>Ciutat Vella</td>\n",
       "    </tr>\n",
       "  </tbody>\n",
       "</table>\n",
       "</div>"
      ],
      "text/plain": [
       "   Station                        Name        Lat       Lon  Altitude  \\\n",
       "0       36       AV. DE LA CATEDRAL, 6  41.385062  2.176683         8   \n",
       "1       53      PL. CARLES PI I SUNYER  41.385086  2.174016        10   \n",
       "2       55               LA RAMBLA, 80  41.381428  2.173286         8   \n",
       "3       57                   RAMBLA, 2  41.376876  2.177225         4   \n",
       "4      126  PG. DE COLOM /VIA LAIETANA  41.380628  2.182192         4   \n",
       "\n",
       "      Barri     Districte  \n",
       "0  el Gòtic  Ciutat Vella  \n",
       "1  el Gòtic  Ciutat Vella  \n",
       "2  el Gòtic  Ciutat Vella  \n",
       "3  el Gòtic  Ciutat Vella  \n",
       "4  el Gòtic  Ciutat Vella  "
      ]
     },
     "execution_count": 14,
     "metadata": {},
     "output_type": "execute_result"
    }
   ],
   "source": [
    "bicing_stations_filtered=bicing_stations[bicing_stations[\"Municipi\"]==\"Barcelona\"]\n",
    "bicing_stations_filtered=bicing_stations_filtered[[\"station_id\",\"name\", \"lat\", \"lon\", \"altitude\",\"Barri\", \"Districte\"]]\n",
    "bicing_stations_filtered.columns=[\"Station\", \"Name\", \"Lat\", \"Lon\", \"Altitude\", \"Barri\", \"Districte\"]\n",
    "bicing_stations_filtered.head()"
   ]
  },
  {
   "cell_type": "markdown",
   "metadata": {},
   "source": [
    "In this project we will be plotting the activity on the different districts using the geojson in https://raw.githubusercontent.com/martgnz/bcn-geodata/master/districtes/districtes.geojson, so we will change the names given to the districts in the csv to match the ones in the geojson file."
   ]
  },
  {
   "cell_type": "code",
   "execution_count": 15,
   "metadata": {},
   "outputs": [],
   "source": [
    "def changeNames(district):\n",
    "    if district==\"les Corts\":\n",
    "        return \"Les Corts\"\n",
    "    elif district==\"Sarrià - Sant Gervasi\":\n",
    "        return \"Sarrià-Sant Gervasi\"\n",
    "    elif district==\"Sant Antoni\":\n",
    "        return \"Eixample\"\n",
    "    return district\n",
    "    \n",
    "\n",
    "bicing_stations_filtered[\"Districte\"]=bicing_stations_filtered[\"Districte\"].apply(lambda x: changeNames(x))"
   ]
  },
  {
   "cell_type": "markdown",
   "metadata": {},
   "source": [
    "There are also some problems regarding the names of some neighbourhoods:"
   ]
  },
  {
   "cell_type": "code",
   "execution_count": 16,
   "metadata": {},
   "outputs": [],
   "source": [
    "def changeBarris(barri):\n",
    "    if re.search(\"Carrer.*\", barri) or barri==\"Avinguda Diagonal\":\n",
    "        return \"les Corts\"\n",
    "    if barri==\"Superilla del Poblenou\":\n",
    "        return \"el Parc i la Llacuna del Poblenou\"\n",
    "    return barri\n",
    "\n",
    "\n",
    "bicing_stations_filtered[\"Barri\"]=bicing_stations_filtered[\"Barri\"].apply(lambda x: changeBarris(x))"
   ]
  },
  {
   "cell_type": "markdown",
   "metadata": {},
   "source": [
    "Next, we will join both datasets in order to be able to plot data using information in both of them:"
   ]
  },
  {
   "cell_type": "code",
   "execution_count": 17,
   "metadata": {
    "scrolled": true
   },
   "outputs": [
    {
     "data": {
      "text/html": [
       "<div>\n",
       "<style scoped>\n",
       "    .dataframe tbody tr th:only-of-type {\n",
       "        vertical-align: middle;\n",
       "    }\n",
       "\n",
       "    .dataframe tbody tr th {\n",
       "        vertical-align: top;\n",
       "    }\n",
       "\n",
       "    .dataframe thead th {\n",
       "        text-align: right;\n",
       "    }\n",
       "</style>\n",
       "<table border=\"1\" class=\"dataframe\">\n",
       "  <thead>\n",
       "    <tr style=\"text-align: right;\">\n",
       "      <th></th>\n",
       "      <th>Station</th>\n",
       "      <th>Day</th>\n",
       "      <th>avg_Bikes_Avail</th>\n",
       "      <th>avg_Mechanical_Bikes</th>\n",
       "      <th>avg_Electric_Bikes</th>\n",
       "      <th>avg_Docks_Available</th>\n",
       "      <th>avg_Occupation</th>\n",
       "      <th>Date</th>\n",
       "      <th>Day_of_week</th>\n",
       "      <th>Name</th>\n",
       "      <th>Lat</th>\n",
       "      <th>Lon</th>\n",
       "      <th>Altitude</th>\n",
       "      <th>Barri</th>\n",
       "      <th>Districte</th>\n",
       "    </tr>\n",
       "  </thead>\n",
       "  <tbody>\n",
       "    <tr>\n",
       "      <th>0</th>\n",
       "      <td>1</td>\n",
       "      <td>1</td>\n",
       "      <td>13.722222</td>\n",
       "      <td>13.552083</td>\n",
       "      <td>0.170139</td>\n",
       "      <td>27.763889</td>\n",
       "      <td>0.328943</td>\n",
       "      <td>2020-09-01</td>\n",
       "      <td>Tuesday</td>\n",
       "      <td>GRAN VIA CORTS CATALANES, 760</td>\n",
       "      <td>41.397978</td>\n",
       "      <td>2.180107</td>\n",
       "      <td>16</td>\n",
       "      <td>el Fort Pienc</td>\n",
       "      <td>Eixample</td>\n",
       "    </tr>\n",
       "    <tr>\n",
       "      <th>1</th>\n",
       "      <td>1</td>\n",
       "      <td>2</td>\n",
       "      <td>9.479167</td>\n",
       "      <td>9.291667</td>\n",
       "      <td>0.187500</td>\n",
       "      <td>32.395833</td>\n",
       "      <td>0.231612</td>\n",
       "      <td>2020-09-02</td>\n",
       "      <td>Wednesday</td>\n",
       "      <td>GRAN VIA CORTS CATALANES, 760</td>\n",
       "      <td>41.397978</td>\n",
       "      <td>2.180107</td>\n",
       "      <td>16</td>\n",
       "      <td>el Fort Pienc</td>\n",
       "      <td>Eixample</td>\n",
       "    </tr>\n",
       "    <tr>\n",
       "      <th>2</th>\n",
       "      <td>1</td>\n",
       "      <td>3</td>\n",
       "      <td>8.642361</td>\n",
       "      <td>8.454861</td>\n",
       "      <td>0.187500</td>\n",
       "      <td>37.340278</td>\n",
       "      <td>0.187898</td>\n",
       "      <td>2020-09-03</td>\n",
       "      <td>Thursday</td>\n",
       "      <td>GRAN VIA CORTS CATALANES, 760</td>\n",
       "      <td>41.397978</td>\n",
       "      <td>2.180107</td>\n",
       "      <td>16</td>\n",
       "      <td>el Fort Pienc</td>\n",
       "      <td>Eixample</td>\n",
       "    </tr>\n",
       "  </tbody>\n",
       "</table>\n",
       "</div>"
      ],
      "text/plain": [
       "   Station  Day  avg_Bikes_Avail  avg_Mechanical_Bikes  avg_Electric_Bikes  \\\n",
       "0        1    1        13.722222             13.552083            0.170139   \n",
       "1        1    2         9.479167              9.291667            0.187500   \n",
       "2        1    3         8.642361              8.454861            0.187500   \n",
       "\n",
       "   avg_Docks_Available  avg_Occupation       Date Day_of_week  \\\n",
       "0            27.763889        0.328943 2020-09-01     Tuesday   \n",
       "1            32.395833        0.231612 2020-09-02   Wednesday   \n",
       "2            37.340278        0.187898 2020-09-03    Thursday   \n",
       "\n",
       "                            Name        Lat       Lon  Altitude  \\\n",
       "0  GRAN VIA CORTS CATALANES, 760  41.397978  2.180107        16   \n",
       "1  GRAN VIA CORTS CATALANES, 760  41.397978  2.180107        16   \n",
       "2  GRAN VIA CORTS CATALANES, 760  41.397978  2.180107        16   \n",
       "\n",
       "           Barri Districte  \n",
       "0  el Fort Pienc  Eixample  \n",
       "1  el Fort Pienc  Eixample  \n",
       "2  el Fort Pienc  Eixample  "
      ]
     },
     "execution_count": 17,
     "metadata": {},
     "output_type": "execute_result"
    }
   ],
   "source": [
    "Activity_Station_Day_Info=aggregate.set_index('Station').join(bicing_stations_filtered.set_index('Station'), how=\"inner\").reset_index()\n",
    "Activity_Station_Day_Info.head(3)"
   ]
  },
  {
   "cell_type": "markdown",
   "metadata": {},
   "source": [
    "Finally, we store the resulting data frame in a csv file (clean_data.csv) that will be used later on when designing the visualizations:"
   ]
  },
  {
   "cell_type": "code",
   "execution_count": 18,
   "metadata": {},
   "outputs": [],
   "source": [
    "Activity_Station_Day_Info.to_csv(\"clean_data.csv\")"
   ]
  }
 ],
 "metadata": {
  "kernelspec": {
   "display_name": "Python 3",
   "language": "python",
   "name": "python3"
  },
  "language_info": {
   "codemirror_mode": {
    "name": "ipython",
    "version": 3
   },
   "file_extension": ".py",
   "mimetype": "text/x-python",
   "name": "python",
   "nbconvert_exporter": "python",
   "pygments_lexer": "ipython3",
   "version": "3.8.5"
  }
 },
 "nbformat": 4,
 "nbformat_minor": 4
}
